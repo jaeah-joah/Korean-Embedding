{
  "nbformat": 4,
  "nbformat_minor": 0,
  "metadata": {
    "colab": {
      "name": "03_비지도학습기반 형태소 분석기",
      "provenance": [],
      "toc_visible": true
    },
    "kernelspec": {
      "name": "python3",
      "display_name": "Python 3"
    }
  },
  "cells": [
    {
      "cell_type": "markdown",
      "metadata": {
        "id": "WQzGrF8O4yuc"
      },
      "source": [
        "# **Sonlpy**"
      ]
    },
    {
      "cell_type": "markdown",
      "metadata": {
        "id": "p293FHZh0DQi"
      },
      "source": [
        "[Soynlp](https://github.com/lovit/soynlp)"
      ]
    },
    {
      "cell_type": "code",
      "metadata": {
        "colab": {
          "base_uri": "https://localhost:8080/"
        },
        "id": "CsbkB5G-xhAl",
        "outputId": "c2236e50-8600-45ef-beb3-8c0419d1d2df"
      },
      "source": [
        "pip install soynlp"
      ],
      "execution_count": 1,
      "outputs": [
        {
          "output_type": "stream",
          "text": [
            "Collecting soynlp\n",
            "\u001b[?25l  Downloading https://files.pythonhosted.org/packages/7e/50/6913dc52a86a6b189419e59f9eef1b8d599cffb6f44f7bb91854165fc603/soynlp-0.0.493-py3-none-any.whl (416kB)\n",
            "\r\u001b[K     |▉                               | 10kB 9.4MB/s eta 0:00:01\r\u001b[K     |█▋                              | 20kB 12.0MB/s eta 0:00:01\r\u001b[K     |██▍                             | 30kB 11.2MB/s eta 0:00:01\r\u001b[K     |███▏                            | 40kB 8.5MB/s eta 0:00:01\r\u001b[K     |████                            | 51kB 8.7MB/s eta 0:00:01\r\u001b[K     |████▊                           | 61kB 9.0MB/s eta 0:00:01\r\u001b[K     |█████▌                          | 71kB 7.5MB/s eta 0:00:01\r\u001b[K     |██████▎                         | 81kB 8.2MB/s eta 0:00:01\r\u001b[K     |███████                         | 92kB 8.5MB/s eta 0:00:01\r\u001b[K     |███████▉                        | 102kB 8.3MB/s eta 0:00:01\r\u001b[K     |████████▋                       | 112kB 8.3MB/s eta 0:00:01\r\u001b[K     |█████████▍                      | 122kB 8.3MB/s eta 0:00:01\r\u001b[K     |██████████▏                     | 133kB 8.3MB/s eta 0:00:01\r\u001b[K     |███████████                     | 143kB 8.3MB/s eta 0:00:01\r\u001b[K     |███████████▉                    | 153kB 8.3MB/s eta 0:00:01\r\u001b[K     |████████████▋                   | 163kB 8.3MB/s eta 0:00:01\r\u001b[K     |█████████████▍                  | 174kB 8.3MB/s eta 0:00:01\r\u001b[K     |██████████████▏                 | 184kB 8.3MB/s eta 0:00:01\r\u001b[K     |███████████████                 | 194kB 8.3MB/s eta 0:00:01\r\u001b[K     |███████████████▊                | 204kB 8.3MB/s eta 0:00:01\r\u001b[K     |████████████████▌               | 215kB 8.3MB/s eta 0:00:01\r\u001b[K     |█████████████████▎              | 225kB 8.3MB/s eta 0:00:01\r\u001b[K     |██████████████████              | 235kB 8.3MB/s eta 0:00:01\r\u001b[K     |██████████████████▉             | 245kB 8.3MB/s eta 0:00:01\r\u001b[K     |███████████████████▋            | 256kB 8.3MB/s eta 0:00:01\r\u001b[K     |████████████████████▍           | 266kB 8.3MB/s eta 0:00:01\r\u001b[K     |█████████████████████▎          | 276kB 8.3MB/s eta 0:00:01\r\u001b[K     |██████████████████████          | 286kB 8.3MB/s eta 0:00:01\r\u001b[K     |██████████████████████▉         | 296kB 8.3MB/s eta 0:00:01\r\u001b[K     |███████████████████████▋        | 307kB 8.3MB/s eta 0:00:01\r\u001b[K     |████████████████████████▍       | 317kB 8.3MB/s eta 0:00:01\r\u001b[K     |█████████████████████████▏      | 327kB 8.3MB/s eta 0:00:01\r\u001b[K     |██████████████████████████      | 337kB 8.3MB/s eta 0:00:01\r\u001b[K     |██████████████████████████▊     | 348kB 8.3MB/s eta 0:00:01\r\u001b[K     |███████████████████████████▌    | 358kB 8.3MB/s eta 0:00:01\r\u001b[K     |████████████████████████████▎   | 368kB 8.3MB/s eta 0:00:01\r\u001b[K     |█████████████████████████████   | 378kB 8.3MB/s eta 0:00:01\r\u001b[K     |█████████████████████████████▉  | 389kB 8.3MB/s eta 0:00:01\r\u001b[K     |██████████████████████████████▋ | 399kB 8.3MB/s eta 0:00:01\r\u001b[K     |███████████████████████████████▌| 409kB 8.3MB/s eta 0:00:01\r\u001b[K     |████████████████████████████████| 419kB 8.3MB/s \n",
            "\u001b[?25hRequirement already satisfied: scipy>=1.1.0 in /usr/local/lib/python3.7/dist-packages (from soynlp) (1.4.1)\n",
            "Requirement already satisfied: numpy>=1.12.1 in /usr/local/lib/python3.7/dist-packages (from soynlp) (1.19.5)\n",
            "Requirement already satisfied: scikit-learn>=0.20.0 in /usr/local/lib/python3.7/dist-packages (from soynlp) (0.22.2.post1)\n",
            "Requirement already satisfied: psutil>=5.0.1 in /usr/local/lib/python3.7/dist-packages (from soynlp) (5.4.8)\n",
            "Requirement already satisfied: joblib>=0.11 in /usr/local/lib/python3.7/dist-packages (from scikit-learn>=0.20.0->soynlp) (1.0.1)\n",
            "Installing collected packages: soynlp\n",
            "Successfully installed soynlp-0.0.493\n"
          ],
          "name": "stdout"
        }
      ]
    },
    {
      "cell_type": "code",
      "metadata": {
        "colab": {
          "base_uri": "https://localhost:8080/"
        },
        "id": "1c8JvnPLBbwo",
        "outputId": "115b5218-01d7-48f6-f48d-00609063eca5"
      },
      "source": [
        "from google.colab import drive\r\n",
        "drive.mount('/content/drive')"
      ],
      "execution_count": 2,
      "outputs": [
        {
          "output_type": "stream",
          "text": [
            "Mounted at /content/drive\n"
          ],
          "name": "stdout"
        }
      ]
    },
    {
      "cell_type": "code",
      "metadata": {
        "id": "aaQwzzIZItFJ"
      },
      "source": [
        "import os\r\n",
        "os.chdir('/content/drive/Shareddrives/TNT/스터디/2021년 1학기/자연어처리팀/2주차')"
      ],
      "execution_count": 5,
      "outputs": []
    },
    {
      "cell_type": "code",
      "metadata": {
        "id": "i_nmBixVxP4I",
        "colab": {
          "base_uri": "https://localhost:8080/"
        },
        "outputId": "e314737e-1e2d-4ad8-e3ba-e5f5683eb57a"
      },
      "source": [
        "from soynlp.word import WordExtractor\r\n",
        "\r\n",
        "corpus_fname=\"집에 있는데도 집에 가고 싶어.txt\"\r\n",
        "\r\n",
        "word_extractor = WordExtractor(min_frequency=100,\r\n",
        "    min_cohesion_forward=0.05, \r\n",
        "    min_right_branching_entropy=0.0\r\n",
        ")\r\n",
        "sentences=[sent.strip() for sent in open(corpus_fname,'r').readlines()]\r\n",
        "word_extractor.train(sentences) # list of str or like\r\n",
        "\r\n",
        "words = word_extractor.extract()"
      ],
      "execution_count": 6,
      "outputs": [
        {
          "output_type": "stream",
          "text": [
            "\rtraining ... (0 in 176 sents) use memory 0.142 Gb\rtraining was done. used memory 0.148 Gb\n",
            "\r cohesion probabilities ... (1 in 31)\rall cohesion probabilities was computed. # words = 3\n",
            "\rall branching entropies was computed # words = 1703\n",
            "\rall accessor variety was computed # words = 1703\n"
          ],
          "name": "stdout"
        }
      ]
    },
    {
      "cell_type": "code",
      "metadata": {
        "id": "6K8aywLDF1Cu",
        "colab": {
          "base_uri": "https://localhost:8080/"
        },
        "outputId": "5a41f910-2108-4997-f1ac-6839516f9dd4"
      },
      "source": [
        "import math\r\n",
        "from soynlp.word import WordExtractor\r\n",
        "from soynlp.tokenizer import LTokenizer\r\n",
        "\r\n",
        "word_extractor = WordExtractor(min_frequency=100,\r\n",
        "    min_cohesion_forward=0.05, \r\n",
        "    min_right_branching_entropy=0.0\r\n",
        ")\r\n",
        "sentences=[sent.strip() for sent in open(corpus_fname,'r').readlines()]\r\n",
        "word_extractor.train(sentences) # list of str or like\r\n",
        "\r\n",
        "scores=word_extractor.word_scores()\r\n",
        "scores={key:(scores[key].cohesion_forward*math.exp(scores[key].right_branching_entropy))for key in scores.keys()}\r\n",
        "\r\n",
        "tokenizer=LTokenizer(scores=scores)\r\n",
        "tokens=tokenizer.tokenize(\"너의색깔로나를물들여\")"
      ],
      "execution_count": 7,
      "outputs": [
        {
          "output_type": "stream",
          "text": [
            "\rtraining ... (0 in 176 sents) use memory 0.148 Gb\rtraining was done. used memory 0.149 Gb\n",
            "\r cohesion probabilities ... (1 in 31)\rall cohesion probabilities was computed. # words = 3\n",
            "\rall branching entropies was computed # words = 1703\n",
            "\rall accessor variety was computed # words = 1703\n"
          ],
          "name": "stdout"
        }
      ]
    },
    {
      "cell_type": "code",
      "metadata": {
        "colab": {
          "base_uri": "https://localhost:8080/"
        },
        "id": "sO4XtdDc3kQT",
        "outputId": "634ad81e-707c-46ea-b67a-f373860c4d16"
      },
      "source": [
        "tokens"
      ],
      "execution_count": 8,
      "outputs": [
        {
          "output_type": "execute_result",
          "data": {
            "text/plain": [
              "['너의색깔로나를물들여']"
            ]
          },
          "metadata": {
            "tags": []
          },
          "execution_count": 8
        }
      ]
    },
    {
      "cell_type": "code",
      "metadata": {
        "colab": {
          "base_uri": "https://localhost:8080/"
        },
        "id": "EN_0W2iG1Bcx",
        "outputId": "8acee242-cbbe-4033-e273-3646c57006d5"
      },
      "source": [
        "tokens=tokenizer.tokenize(\"너무 행복하면 마음의 병이 생긴다.\")\n",
        "print(tokens)"
      ],
      "execution_count": 12,
      "outputs": [
        {
          "output_type": "stream",
          "text": [
            "['너무', '행복하면', '마음의', '병이', '생긴다.']\n"
          ],
          "name": "stdout"
        }
      ]
    },
    {
      "cell_type": "code",
      "metadata": {
        "id": "GYQuVKfd7Tew",
        "colab": {
          "base_uri": "https://localhost:8080/"
        },
        "outputId": "ab26f242-aee8-4643-924f-44006b7601f3"
      },
      "source": [
        "from soynlp.tokenizer import LTokenizer\n",
        "\n",
        "scores = {'데이':0.5, '데이터':0.5, '데이터마이닝':0.5, '공부':0.5, '공부중':0.45}\n",
        "tokenizer = LTokenizer(scores=scores)\n",
        "\n",
        "sent = '데이터마이닝을 공부한다'\n",
        "\n",
        "print(tokenizer.tokenize(sent, flatten=False))\n",
        "\n",
        "print(tokenizer.tokenize(sent))"
      ],
      "execution_count": 10,
      "outputs": [
        {
          "output_type": "stream",
          "text": [
            "[('데이터마이닝', '을'), ('공부', '한다')]\n",
            "['데이터마이닝', '을', '공부', '한다']\n"
          ],
          "name": "stdout"
        }
      ]
    },
    {
      "cell_type": "code",
      "metadata": {
        "colab": {
          "base_uri": "https://localhost:8080/"
        },
        "id": "9wC6Avh01qr8",
        "outputId": "1a8e962b-dc7a-48dc-8f58-f0af4769adbb"
      },
      "source": [
        "from soynlp.tokenizer import MaxScoreTokenizer\n",
        "\n",
        "scores = {'파스': 0.3, '파스타': 0.7, '좋아요': 0.2, '좋아':0.5}\n",
        "tokenizer = MaxScoreTokenizer(scores=scores)\n",
        "\n",
        "print(tokenizer.tokenize('난파스타가좋아요'))\n",
        "\n",
        "print(tokenizer.tokenize('난파스타가 좋아요', flatten=False))"
      ],
      "execution_count": 13,
      "outputs": [
        {
          "output_type": "stream",
          "text": [
            "['난', '파스타', '가', '좋아', '요']\n",
            "[[('난', 0, 1, 0.0, 1), ('파스타', 1, 4, 0.7, 3), ('가', 4, 5, 0.0, 1)], [('좋아', 0, 2, 0.5, 2), ('요', 2, 3, 0.0, 1)]]\n"
          ],
          "name": "stdout"
        }
      ]
    },
    {
      "cell_type": "code",
      "metadata": {
        "colab": {
          "base_uri": "https://localhost:8080/"
        },
        "id": "eeo0zq1M2PJP",
        "outputId": "530238d1-55fd-4821-c067-8371413f2dc0"
      },
      "source": [
        "from soynlp.tokenizer import RegexTokenizer\n",
        "\n",
        "tokenizer = RegexTokenizer()\n",
        "\n",
        "print(tokenizer.tokenize('이렇게연속된문장은잘리지않습니다만'))\n",
        "# ['이렇게연속된문장은잘리지않습니다만']\n",
        "\n",
        "print(tokenizer.tokenize('숫자123이영어abc에섞여있으면ㅋㅋ잘리겠죠'))\n",
        "# ['숫자', '123', '이영어', 'abc', '에섞여있으면', 'ㅋㅋ', '잘리겠죠']"
      ],
      "execution_count": 14,
      "outputs": [
        {
          "output_type": "stream",
          "text": [
            "['이렇게연속된문장은잘리지않습니다만']\n",
            "['숫자', '123', '이영어', 'abc', '에섞여있으면', 'ㅋㅋ', '잘리겠죠']\n"
          ],
          "name": "stdout"
        },
        {
          "output_type": "stream",
          "text": [
            "/usr/local/lib/python3.7/dist-packages/soynlp/tokenizer/_tokenizer.py:19: FutureWarning: Possible nested set at position 13\n",
            "  ('english & latin', re.compile(u\"[a-zA-ZÀ-ÿ]+[[`']?s]*|[a-zA-ZÀ-ÿ]+\", re.UNICODE))\n"
          ],
          "name": "stderr"
        }
      ]
    }
  ]
}